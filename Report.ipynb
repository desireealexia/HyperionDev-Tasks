{
 "cells": [
  {
   "cell_type": "code",
   "execution_count": 6,
   "metadata": {
    "id": "h0LVvvnfJsg5"
   },
   "outputs": [],
   "source": [
    "# Import pandas\n",
    "import pandas as pd\n",
    "import numpy as np"
   ]
  },
  {
   "cell_type": "code",
   "execution_count": 27,
   "metadata": {
    "id": "rv2oLRnPK36J"
   },
   "outputs": [
    {
     "name": "stdout",
     "output_type": "stream",
     "text": [
      "       Balance   Income  Limit  Rating  Cards  Age  Education  Gender Student  \\\n",
      "0    12.240798   14.891   3606     283      2   34         11    Male      No   \n",
      "1    23.283334  106.025   6645     483      3   82         15  Female     Yes   \n",
      "2    22.530409  104.593   7075     514      4   71         11    Male      No   \n",
      "3    27.652811  148.924   9504     681      3   36         11  Female      No   \n",
      "4    16.893978   55.882   4897     357      2   68         16    Male      No   \n",
      "..         ...      ...    ...     ...    ...  ...        ...     ...     ...   \n",
      "395   8.764984   12.096   4100     307      3   32         13    Male      No   \n",
      "396   9.943838   13.364   3838     296      5   65         17    Male      No   \n",
      "397  14.882078   57.872   4171     321      5   67         12  Female      No   \n",
      "398  12.001071   37.728   2525     192      1   44         13    Male      No   \n",
      "399  10.159598   18.701   5524     415      5   64          7  Female      No   \n",
      "\n",
      "    Married         Ethnicity  \n",
      "0       Yes         Caucasian  \n",
      "1       Yes             Asian  \n",
      "2        No             Asian  \n",
      "3        No             Asian  \n",
      "4       Yes         Caucasian  \n",
      "..      ...               ...  \n",
      "395     Yes         Caucasian  \n",
      "396      No  African American  \n",
      "397     Yes         Caucasian  \n",
      "398     Yes         Caucasian  \n",
      "399      No             Asian  \n",
      "\n",
      "[400 rows x 11 columns]\n"
     ]
    }
   ],
   "source": [
    "# Create a DataFrame with balance.txt\n",
    "df = pd.read_csv('balance.txt',sep=' ')\n",
    "df = df.iloc[:,:]\n",
    "print(df)"
   ]
  },
  {
   "cell_type": "markdown",
   "metadata": {
    "id": "_LXpBJXZLYoh"
   },
   "source": [
    "Write the code needed to produce a report that provides the following information:\n",
    "* Compare the average income based on ethnicity. \n",
    "* On average, do married or single people have a higher balance?\n",
    "* What is the highest income in our dataset?\n",
    "* What is the lowest income in our dataset?\n",
    "* How many cards do we have recorded in our dataset? (Hint: use `sum()`)\n",
    "* How many females do we have information for vs how many males? (Hint: use `count()`For a list of all methods for computation of descriptive stats, explore the [pandas documentation](https://pandas.pydata.org/pandas-docs/stable/reference/frame.html#computations-descriptive-stats)). \n",
    "\n",
    "\n"
   ]
  },
  {
   "cell_type": "code",
   "execution_count": 28,
   "metadata": {},
   "outputs": [
    {
     "name": "stdout",
     "output_type": "stream",
     "text": [
      "Ethnicity\n",
      "African American    47.682098\n",
      "Asian               44.187836\n",
      "Caucasian           44.521946\n",
      "Name: Income, dtype: float32\n"
     ]
    }
   ],
   "source": [
    "#Compare the average income based on ethnicity. \n",
    "df[\"Income\"] = pd.to_numeric(df[\"Income\"], downcast=\"float\")\n",
    "ethnicity_income = df.groupby(\"Ethnicity\")[\"Income\"].mean()\n",
    "print(ethnicity_income)"
   ]
  },
  {
   "cell_type": "code",
   "execution_count": 29,
   "metadata": {},
   "outputs": [
    {
     "name": "stdout",
     "output_type": "stream",
     "text": [
      "The mean balance for married people is  13.388474\n",
      "The mean balance for single people is  13.493509\n",
      "Single people have a higher balance on average.\n"
     ]
    }
   ],
   "source": [
    "# On average, do married or single people have a higher balance?\n",
    "df[\"Balance\"] = pd.to_numeric(df[\"Balance\"], downcast=\"float\")\n",
    "groupedby_married = df.groupby(\"Married\")[\"Balance\"]\n",
    "\n",
    "married_balance = df.loc[df[\"Married\"] == \"Yes\", \"Balance\"].mean()\n",
    "print(\"The mean balance for married people is \", married_balance)\n",
    "\n",
    "single_balance = df.loc[df[\"Married\"] == \"No\", \"Balance\"].mean()\n",
    "print(\"The mean balance for single people is \", single_balance)\n",
    "\n",
    "if married_balance > single_balance:\n",
    "    print(\"Married people have a higher balance on average.\")\n",
    "else:\n",
    "    print(\"Single people have a higher balance on average.\")"
   ]
  },
  {
   "cell_type": "code",
   "execution_count": 30,
   "metadata": {},
   "outputs": [
    {
     "name": "stdout",
     "output_type": "stream",
     "text": [
      "The highest income in our dataset is 186.63400268554688\n"
     ]
    }
   ],
   "source": [
    "# What is the highest income in our dataset?\n",
    "print(\"The highest income in our dataset is\", df.loc[:,\"Income\"].max())"
   ]
  },
  {
   "cell_type": "code",
   "execution_count": 31,
   "metadata": {},
   "outputs": [
    {
     "name": "stdout",
     "output_type": "stream",
     "text": [
      "The lowest income in our dataset is 10.354000091552734\n"
     ]
    }
   ],
   "source": [
    "# What is the lowest income in our dataset?\n",
    "print(\"The lowest income in our dataset is\", df.loc[:,\"Income\"].min())"
   ]
  },
  {
   "cell_type": "code",
   "execution_count": 32,
   "metadata": {},
   "outputs": [
    {
     "name": "stdout",
     "output_type": "stream",
     "text": [
      "The total number of cards recorded in our dataset is 1183\n"
     ]
    }
   ],
   "source": [
    "# How many cards do we have recorded in our dataset?\n",
    "print(\"The total number of cards recorded in our dataset is\", df.loc[:,\"Cards\"].sum())"
   ]
  },
  {
   "cell_type": "code",
   "execution_count": 44,
   "metadata": {},
   "outputs": [
    {
     "name": "stdout",
     "output_type": "stream",
     "text": [
      "We have information on 207 females\n",
      "We have information on 193 males\n"
     ]
    }
   ],
   "source": [
    "# How many females do we have information for vs how many males?\n",
    "num_females = df[df.Gender == \"Female\"].loc[:,\"Gender\"].count()\n",
    "print(f\"We have information on {num_females} females\")\n",
    "\n",
    "num_males = df[df.Gender == \"Male\"].loc[:,\"Gender\"].count()\n",
    "print(f\"We have information on {num_males} males\")"
   ]
  }
 ],
 "metadata": {
  "colab": {
   "authorship_tag": "ABX9TyP5J3xG1JXUCQAkP9OLQqdU",
   "provenance": []
  },
  "kernelspec": {
   "display_name": "Python 3 (ipykernel)",
   "language": "python",
   "name": "python3"
  },
  "language_info": {
   "codemirror_mode": {
    "name": "ipython",
    "version": 3
   },
   "file_extension": ".py",
   "mimetype": "text/x-python",
   "name": "python",
   "nbconvert_exporter": "python",
   "pygments_lexer": "ipython3",
   "version": "3.10.9"
  }
 },
 "nbformat": 4,
 "nbformat_minor": 1
}
